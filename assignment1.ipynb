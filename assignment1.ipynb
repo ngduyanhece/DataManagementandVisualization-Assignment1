{
 "cells": [
  {
   "cell_type": "markdown",
   "metadata": {},
   "source": [
    "# Week 1 Assignment "
   ]
  },
  {
   "cell_type": "markdown",
   "metadata": {},
   "source": [
    "## overview "
   ]
  },
  {
   "cell_type": "markdown",
   "metadata": {},
   "source": [
    "I am very interested in the gapminder dataset, this is a great resource for investigating for better insight about the factors in various countries all over the world in term of life quality, policy etc.."
   ]
  },
  {
   "cell_type": "markdown",
   "metadata": {},
   "source": [
    "## about the data "
   ]
  },
  {
   "cell_type": "markdown",
   "metadata": {},
   "source": [
    "The data for this analysis comes from a subset of the GapMider project data. In this section I will examine the variables I am interested in more detail."
   ]
  },
  {
   "cell_type": "markdown",
   "metadata": {},
   "source": [
    "## Life Expectancy"
   ]
  },
  {
   "cell_type": "markdown",
   "metadata": {},
   "source": [
    "according to wikipedia, Life expectancy is a statistical measure of the average time an organism is expected to live, based on the year of their birth, their current age and other demographic factors including sex. The life expectancy could be used to make inference for some aspects of the society"
   ]
  },
  {
   "cell_type": "markdown",
   "metadata": {},
   "source": [
    "## Democracy Score"
   ]
  },
  {
   "cell_type": "markdown",
   "metadata": {},
   "source": [
    "The democracy score comes from the Polity IV project. It is a summary measure of a country's democratic and free nature. -10 is the lowest value, 10 the highest. The GapMinder data set that I will analyzing is the polity score for 2009. To get a feel for this data take a look at the following figure provided by the Polity IV project authors:"
   ]
  },
  {
   "cell_type": "markdown",
   "metadata": {},
   "source": [
    "<img src=\"democracy-index-2012.jpg\">"
   ]
  },
  {
   "cell_type": "markdown",
   "metadata": {},
   "source": [
    "## Democracy vs Life Expentacy Correlation "
   ]
  },
  {
   "cell_type": "markdown",
   "metadata": {},
   "source": [
    "while the relation between democracy and prosperity is well studied, not many paper talked about the directed relation beetween democracy and like expentacy. My interesting question is "
   ]
  },
  {
   "cell_type": "markdown",
   "metadata": {},
   "source": [
    "## Processing data "
   ]
  },
  {
   "cell_type": "markdown",
   "metadata": {},
   "source": [
    "I begin by importing the libraries needed for the analysis:"
   ]
  },
  {
   "cell_type": "code",
   "execution_count": 1,
   "metadata": {
    "collapsed": true
   },
   "outputs": [],
   "source": [
    "#import the necessary library \n",
    "import pandas as pd \n",
    "import numpy as np"
   ]
  },
  {
   "cell_type": "markdown",
   "metadata": {},
   "source": [
    "Now I have python parse the csv file and print out some basic statistics about the data frame (df):"
   ]
  },
  {
   "cell_type": "code",
   "execution_count": 5,
   "metadata": {
    "collapsed": false
   },
   "outputs": [
    {
     "name": "stdout",
     "output_type": "stream",
     "text": [
      "the data has 213 rows\n",
      "the data has 16 columns\n"
     ]
    }
   ],
   "source": [
    "df = pd.read_csv(\"gapminder.csv\",low_memory= False)\n",
    "#print some basic features \n",
    "rows = len(df)\n",
    "cols = len(df.columns)\n",
    "print \"the data has \" + str(rows) + \" rows\"\n",
    "print \"the data has \" + str(cols) + \" columns\""
   ]
  },
  {
   "cell_type": "markdown",
   "metadata": {},
   "source": [
    "here are 213 observations with 16 variables in the data frame. I need to clean up the raw data prior to the analysis. I will first change the varaible types for the variables of interst:"
   ]
  },
  {
   "cell_type": "code",
   "execution_count": 7,
   "metadata": {
    "collapsed": false
   },
   "outputs": [],
   "source": [
    "# Change the data type for variables of interest\n",
    "df['polityscore'] = pd.to_numeric(df['polityscore'])\n",
    "df['lifeexpectancy'] = pd.to_numeric(df['lifeexpectancy'])"
   ]
  },
  {
   "cell_type": "markdown",
   "metadata": {},
   "source": [
    "I want to see how many missing observations there are in the variables of interest:"
   ]
  },
  {
   "cell_type": "code",
   "execution_count": 11,
   "metadata": {
    "collapsed": false
   },
   "outputs": [
    {
     "name": "stdout",
     "output_type": "stream",
     "text": [
      "Countries with a Democracy Score: 161 out of 213 (52 missing)\n",
      "Countries with a Life Expentacy: 191 out of 213 (22 missing)\n"
     ]
    }
   ],
   "source": [
    "print ('Countries with a Democracy Score: ' + str(df['polityscore'].count()) + \n",
    "       ' out of ' + str(len(df)) + ' (' + str(len(df) - df['polityscore'].count()) + ' missing)')\n",
    "print ('Countries with a Life Expentacy: ' + str(df['lifeexpectancy'].count()) + \n",
    "       ' out of ' + str(len(df)) + ' (' + str(len(df) - df['lifeexpectancy'].count()) + ' missing)')"
   ]
  },
  {
   "cell_type": "markdown",
   "metadata": {},
   "source": [
    "I need to have a set of data with both variables of interest so I will subset the data frame:"
   ]
  },
  {
   "cell_type": "code",
   "execution_count": 13,
   "metadata": {
    "collapsed": false
   },
   "outputs": [
    {
     "name": "stdout",
     "output_type": "stream",
     "text": [
      "Number of observations: 160 (rows)\n"
     ]
    }
   ],
   "source": [
    "# Get the rows not missing a value\n",
    "subset = df[np.isfinite(df['polityscore'])]\n",
    "subset = subset[np.isfinite(subset['lifeexpectancy'])]\n",
    "print('Number of observations: '+ str(len(subset)) +' (rows)')"
   ]
  },
  {
   "cell_type": "markdown",
   "metadata": {},
   "source": [
    "160 of the 213 records have complete data. Now I will create my new variable for the democracy score categories. I will do this by defining a function and then using that function to create the new variable:"
   ]
  },
  {
   "cell_type": "code",
   "execution_count": 14,
   "metadata": {
    "collapsed": true
   },
   "outputs": [],
   "source": [
    "# This function converts the polity score to a category\n",
    "def convert_polityscore_to_category(score):\n",
    "    if score == 10:\n",
    "        return('1 - Full Democracy')\n",
    "    elif score > 5:\n",
    "        return('2 - Democracy')\n",
    "    elif score > 0:\n",
    "        return ('3 - Open Anocracy')\n",
    "    elif score > -6:\n",
    "        return ('4 - Closed Anocracy')\n",
    "    else:\n",
    "        return('5 - Autocracy')\n",
    "\n",
    "# Now we can use the function to create the new variable\n",
    "subset['democracy'] = subset['polityscore'].apply(convert_polityscore_to_category)"
   ]
  },
  {
   "cell_type": "markdown",
   "metadata": {},
   "source": [
    "I will also devide the life expectancy into ranges corresponding to low, second, middle, fourth, high  "
   ]
  },
  {
   "cell_type": "code",
   "execution_count": 24,
   "metadata": {
    "collapsed": true
   },
   "outputs": [],
   "source": [
    "subset['lifeexpectancy'] = pd.cut(subset['lifeexpectancy'], 5, labels=['Lowest','Second','Middle','Fourth','Highest'])"
   ]
  },
  {
   "cell_type": "markdown",
   "metadata": {},
   "source": [
    "## Exploratory Data Analysis"
   ]
  },
  {
   "cell_type": "markdown",
   "metadata": {},
   "source": [
    "### Democracy Score"
   ]
  },
  {
   "cell_type": "markdown",
   "metadata": {},
   "source": [
    "The first variable of interest it the polityscore variable. This variable is a measure of the level of openess of the country."
   ]
  },
  {
   "cell_type": "code",
   "execution_count": 27,
   "metadata": {
    "collapsed": false
   },
   "outputs": [
    {
     "name": "stdout",
     "output_type": "stream",
     "text": [
      "Countries by Democracy Score (-10=autocracy & 10=full democracy)\n",
      " 10.0    32\n",
      " 8.0     19\n",
      " 9.0     15\n",
      " 7.0     13\n",
      "-7.0     12\n",
      " 6.0     10\n",
      " 5.0      7\n",
      "-3.0      6\n",
      " 0.0      6\n",
      "-4.0      6\n",
      "-2.0      5\n",
      "-1.0      4\n",
      "-9.0      4\n",
      " 4.0      4\n",
      "-6.0      3\n",
      " 2.0      3\n",
      " 1.0      3\n",
      "-10.0     2\n",
      "-8.0      2\n",
      "-5.0      2\n",
      " 3.0      2\n",
      "Name: polityscore, dtype: int64\n"
     ]
    }
   ],
   "source": [
    "print('Countries by Democracy Score (-10=autocracy & 10=full democracy)')\n",
    "polity_counts = subset['polityscore'].value_counts()\n",
    "print(polity_counts)"
   ]
  },
  {
   "cell_type": "code",
   "execution_count": 28,
   "metadata": {
    "collapsed": false
   },
   "outputs": [
    {
     "name": "stdout",
     "output_type": "stream",
     "text": [
      "Percent of Countries by Democracy Score\n",
      " 10.0    0.20000\n",
      " 8.0     0.11875\n",
      " 9.0     0.09375\n",
      " 7.0     0.08125\n",
      "-7.0     0.07500\n",
      " 6.0     0.06250\n",
      " 5.0     0.04375\n",
      "-3.0     0.03750\n",
      " 0.0     0.03750\n",
      "-4.0     0.03750\n",
      "-2.0     0.03125\n",
      "-1.0     0.02500\n",
      "-9.0     0.02500\n",
      " 4.0     0.02500\n",
      "-6.0     0.01875\n",
      " 2.0     0.01875\n",
      " 1.0     0.01875\n",
      "-10.0    0.01250\n",
      "-8.0     0.01250\n",
      "-5.0     0.01250\n",
      " 3.0     0.01250\n",
      "Name: polityscore, dtype: float64\n"
     ]
    }
   ],
   "source": [
    "print('Percent of Countries by Democracy Score')\n",
    "polity_percents = subset['polityscore'].value_counts(normalize=True)\n",
    "print(polity_percents)"
   ]
  },
  {
   "cell_type": "markdown",
   "metadata": {},
   "source": [
    "There are 32 countries that are full democracies (have a polity score of 10). This is roughly 20% of all the data. There are 2 observations that are autocracies. It seems like most of the countries are greater than zero. I would like to see how many so I will compute a quick percentage:"
   ]
  },
  {
   "cell_type": "code",
   "execution_count": 29,
   "metadata": {
    "collapsed": false
   },
   "outputs": [
    {
     "name": "stdout",
     "output_type": "stream",
     "text": [
      "Number of countries with a Polity score greater than zero: 108\n",
      "Percent of countries with a Polity score greater than zero: 67%\n"
     ]
    }
   ],
   "source": [
    "greater_than_zero = subset[subset['polityscore'] > 0]\n",
    "greater_than_zero_percent = len(greater_than_zero) * 100 / len(subset)\n",
    "print('Number of countries with a Polity score greater than zero: ' + str(len(greater_than_zero)))\n",
    "print('Percent of countries with a Polity score greater than zero: ' + str(greater_than_zero_percent) + '%')"
   ]
  },
  {
   "cell_type": "markdown",
   "metadata": {},
   "source": [
    "108 of the 160 countries in this data set have some degree of openness. That makes up over half of the data (69%)."
   ]
  },
  {
   "cell_type": "markdown",
   "metadata": {},
   "source": [
    "## Life Expectancy Per Person Quintiles"
   ]
  },
  {
   "cell_type": "code",
   "execution_count": 31,
   "metadata": {
    "collapsed": false
   },
   "outputs": [
    {
     "name": "stdout",
     "output_type": "stream",
     "text": [
      "Countries by Life Expectancy Quintiles\n",
      "lifeexpectancy\n",
      "Lowest     24\n",
      "Second     17\n",
      "Middle     29\n",
      "Fourth     54\n",
      "Highest    36\n",
      "dtype: int64\n"
     ]
    }
   ],
   "source": [
    "print('Countries by Life Expectancy Quintiles')\n",
    "lifeexpectancy_counts = subset.groupby('lifeexpectancy').size()\n",
    "print(lifeexpectancy_counts)"
   ]
  },
  {
   "cell_type": "code",
   "execution_count": 33,
   "metadata": {
    "collapsed": false
   },
   "outputs": [
    {
     "name": "stdout",
     "output_type": "stream",
     "text": [
      "Percent of Countries by Life Expectancy Quintiles\n",
      "lifeexpectancy\n",
      "Lowest     15.000\n",
      "Second     10.625\n",
      "Middle     18.125\n",
      "Fourth     33.750\n",
      "Highest    22.500\n",
      "dtype: float64\n"
     ]
    }
   ],
   "source": [
    "print('Percent of Countries by Life Expectancy Quintiles')\n",
    "lifeexpectancy_percents = lifeexpectancy_counts * 100 / len(subset)\n",
    "print(lifeexpectancy_percents)"
   ]
  },
  {
   "cell_type": "markdown",
   "metadata": {},
   "source": [
    "The data is clustered around the fourth and Highest. We see that 90 (roughly 55%) of the observations are in the fourth and Highest quintiles. There are 36 that are in the highest quintile."
   ]
  },
  {
   "cell_type": "markdown",
   "metadata": {},
   "source": [
    "## Democracy Categories"
   ]
  },
  {
   "cell_type": "code",
   "execution_count": 35,
   "metadata": {
    "collapsed": false
   },
   "outputs": [
    {
     "name": "stdout",
     "output_type": "stream",
     "text": [
      "Countries by Democracy Category\n",
      "democracy\n",
      "1 - Full Democracy     32\n",
      "2 - Democracy          57\n",
      "3 - Open Anocracy      19\n",
      "4 - Closed Anocracy    29\n",
      "5 - Autocracy          23\n",
      "dtype: int64\n"
     ]
    }
   ],
   "source": [
    "print('Countries by Democracy Category')\n",
    "democracy_counts = subset.groupby('democracy').size()\n",
    "print(democracy_counts)"
   ]
  },
  {
   "cell_type": "code",
   "execution_count": 36,
   "metadata": {
    "collapsed": false
   },
   "outputs": [
    {
     "name": "stdout",
     "output_type": "stream",
     "text": [
      "Percent of Countries by Democracy Category\n",
      "democracy\n",
      "1 - Full Democracy     20.000\n",
      "2 - Democracy          35.625\n",
      "3 - Open Anocracy      11.875\n",
      "4 - Closed Anocracy    18.125\n",
      "5 - Autocracy          14.375\n",
      "dtype: float64\n"
     ]
    }
   ],
   "source": [
    "print('Percent of Countries by Democracy Category')\n",
    "democracy_percents = democracy_counts * 100 / len(subset)\n",
    "print(democracy_percents)"
   ]
  },
  {
   "cell_type": "code",
   "execution_count": null,
   "metadata": {
    "collapsed": true
   },
   "outputs": [],
   "source": []
  }
 ],
 "metadata": {
  "kernelspec": {
   "display_name": "Python 2",
   "language": "python",
   "name": "python2"
  },
  "language_info": {
   "codemirror_mode": {
    "name": "ipython",
    "version": 2
   },
   "file_extension": ".py",
   "mimetype": "text/x-python",
   "name": "python",
   "nbconvert_exporter": "python",
   "pygments_lexer": "ipython2",
   "version": "2.7.10"
  }
 },
 "nbformat": 4,
 "nbformat_minor": 0
}
